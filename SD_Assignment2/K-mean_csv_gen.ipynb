{
 "cells": [
  {
   "cell_type": "code",
   "execution_count": 5,
   "metadata": {
    "collapsed": false
   },
   "outputs": [],
   "source": [
    "from csv import reader                          # get the csv reader\n",
    "infile = open(\"SFPD_Incidents_-_from_1_January_2003.csv\", 'r')    # open the file for reading\n",
    "fileValues = []\n",
    "\n",
    "first = True \n",
    "for line in reader( infile ):\n",
    "    if not first:\n",
    "        incident_number, category, description, day_of_week, date, time, district, resulution, address, x, y , location, id = line\n",
    "        \n",
    "        values = {'incident_number': incident_number, 'category': category, 'description': description, 'day_of_week': day_of_week, \n",
    "                  'date': date, 'time': time, 'district': district, 'resulution': resulution, 'address': address, 'x': x, 'y': y , \n",
    "                  'location': location, 'id': id}\n",
    "        if float(y) != 90.0:\n",
    "            fileValues.append(values)\n",
    "    first = False"
   ]
  },
  {
   "cell_type": "code",
   "execution_count": 6,
   "metadata": {
    "collapsed": false
   },
   "outputs": [],
   "source": [
    "prostitutions = []\n",
    "\n",
    "for line in fileValues:\n",
    "    if line['district'] is not '' and line['category'] == 'PROSTITUTION':\n",
    "        line['location'] = float(line['y']), float(line['x'])\n",
    "        prostitutions.append(line)"
   ]
  },
  {
   "cell_type": "code",
   "execution_count": 7,
   "metadata": {
    "collapsed": false,
    "scrolled": true
   },
   "outputs": [],
   "source": [
    "from sklearn.cluster import KMeans\n",
    "\n",
    "estimators = {}\n",
    "\n",
    "for k in range(2,11):\n",
    "    cls = KMeans(n_clusters=k)\n",
    "    cls.fit([line['location'] for line in prostitutions])\n",
    "    estimators[k] = cls"
   ]
  },
  {
   "cell_type": "code",
   "execution_count": 8,
   "metadata": {
    "collapsed": true
   },
   "outputs": [],
   "source": [
    "import csv\n",
    "from collections import OrderedDict\n",
    "\n",
    "k_values=OrderedDict()\n",
    "for k in range(2,7):\n",
    "    k_values[k] = estimators[k].predict([line['location'] for line in prostitutions])\n",
    "\n",
    "chosenFileValues = []\n",
    "i = 0\n",
    "for crime in prostitutions:\n",
    "    values = OrderedDict()\n",
    "    values = {'lon': float(crime['x']), 'lat': float(crime['y']), 'k2': k_values[2][i], 'k3': k_values[3][i], \n",
    "              'k4': k_values[4][i], 'k5': k_values[5][i], 'k6': k_values[6][i]}\n",
    "    chosenFileValues.append(values)\n",
    "    i = i+1\n",
    "\n",
    "keys = chosenFileValues[0].keys()\n",
    "with open('week8_part2.csv', 'wb') as output_file:\n",
    "    dict_writer = csv.DictWriter(output_file, keys)\n",
    "    dict_writer.writeheader()\n",
    "    dict_writer.writerows(chosenFileValues)"
   ]
  },
  {
   "cell_type": "code",
   "execution_count": null,
   "metadata": {
    "collapsed": true
   },
   "outputs": [],
   "source": []
  }
 ],
 "metadata": {
  "kernelspec": {
   "display_name": "Python 2",
   "language": "python",
   "name": "python2"
  }
 },
 "nbformat": 4,
 "nbformat_minor": 0
}
